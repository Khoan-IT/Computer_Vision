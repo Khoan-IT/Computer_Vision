{
 "cells": [
  {
   "cell_type": "code",
   "execution_count": 1,
   "metadata": {},
   "outputs": [],
   "source": [
    "import os\n",
    "import random\n",
    "import shutil\n",
    "import tensorflow as tf\n",
    "import matplotlib.pyplot as plt\n",
    "from tensorflow import keras\n",
    "from tensorflow.keras import layers, Model\n",
    "from tensorflow.keras.applications.inception_v3 import InceptionV3\n",
    "from tensorflow.keras.preprocessing.image import ImageDataGenerator\n",
    "from tensorflow.keras.callbacks import ModelCheckpoint, EarlyStopping"
   ]
  },
  {
   "cell_type": "code",
   "execution_count": 2,
   "metadata": {},
   "outputs": [],
   "source": [
    "config = tf.compat.v1.ConfigProto()\n",
    "config.gpu_options.allow_growth = True\n",
    "session = tf.compat.v1.InteractiveSession(config=config)"
   ]
  },
  {
   "cell_type": "code",
   "execution_count": 3,
   "metadata": {},
   "outputs": [],
   "source": [
    "def data_gen():\n",
    "    train_gen = ImageDataGenerator(\n",
    "        rescale=1/255,\n",
    "        rotation_range=40,\n",
    "        width_shift_range=0.2,\n",
    "        height_shift_range=0.2,\n",
    "        shear_range=0.2,\n",
    "        zoom_range=0.2,\n",
    "        horizontal_flip=True,\n",
    "        fill_mode='nearest'\n",
    "    )\n",
    "    validation_gen = ImageDataGenerator(\n",
    "        rescale=1/255\n",
    "    )\n",
    "    \n",
    "    train_datagen = train_gen.flow_from_directory(\n",
    "        'Animals/training',\n",
    "        target_size=(300,300),\n",
    "        batch_size=32,\n",
    "        class_mode='categorical'\n",
    "    )\n",
    "    validation_datagen = validation_gen.flow_from_directory(\n",
    "        'Animals/validation',\n",
    "        target_size=(300,300),\n",
    "        batch_size=32,\n",
    "        class_mode='categorical'\n",
    "    )\n",
    "    \n",
    "    return train_datagen, validation_datagen"
   ]
  },
  {
   "cell_type": "code",
   "execution_count": 4,
   "metadata": {},
   "outputs": [],
   "source": [
    "def create_own_model():\n",
    "    model = keras.Sequential([\n",
    "        # CONV => RELU => BN => POOL => DO\n",
    "        layers.Conv2D(32, (3,3), activation='relu', padding='same', input_shape=(300, 300, 3)),\n",
    "        layers.BatchNormalization(),\n",
    "        layers.MaxPooling2D(3,3),\n",
    "        layers.Dropout(0.25),\n",
    "        \n",
    "        # (CONV => RELU => BN)*2 => POOL => DO\n",
    "        layers.Conv2D(64, (3,3), activation='relu', padding='same'),\n",
    "        layers.BatchNormalization(),\n",
    "        layers.Conv2D(64, (3,3), activation='relu', padding='same'),\n",
    "        layers.BatchNormalization(),\n",
    "        layers.MaxPooling2D(2,2),\n",
    "        layers.Dropout(0.25),\n",
    "        \n",
    "        # (CONV => RELU => BN)*2 => POOL => DO\n",
    "        layers.Conv2D(128, (3,3), activation='relu', padding='same'),\n",
    "        layers.BatchNormalization(),\n",
    "        layers.Conv2D(128, (3,3), activation='relu', padding='same'),\n",
    "        layers.BatchNormalization(),\n",
    "        layers.MaxPooling2D(2,2),\n",
    "        layers.Dropout(0.25),\n",
    "        \n",
    "        # (FC => RELU => BN => DO)*2 => FC => SOFTMAX\n",
    "        layers.Flatten(),\n",
    "        layers.Dense(1024, activation='relu'),\n",
    "        layers.BatchNormalization(),\n",
    "        layers.Dropout(0.25),\n",
    "        layers.Dense(512, activation='relu'),\n",
    "        layers.BatchNormalization(),\n",
    "        layers.Dropout(0.25),\n",
    "        \n",
    "        layers.Dense(3, activation='softmax')\n",
    "    ])\n",
    "    \n",
    "    model.compile(optimizer='adam', loss='categorical_crossentropy', metrics=['acc'])\n",
    "    \n",
    "    return model\n",
    "    "
   ]
  },
  {
   "cell_type": "code",
   "execution_count": 5,
   "metadata": {},
   "outputs": [],
   "source": [
    "def create_transfer_learning_model():\n",
    "    base_model = InceptionV3(\n",
    "        input_shape=(300,300,3),\n",
    "        include_top=False,\n",
    "        weights='imagenet'\n",
    "    )\n",
    "    \n",
    "    for layer in base_model.layers:\n",
    "        layer.trainable = False\n",
    "    \n",
    "    head_model = base_model.output\n",
    "    head_model = layers.Flatten()(head_model)\n",
    "    head_model = layers.Dense(1024, activation='relu')(head_model)\n",
    "    head_model = layers.BatchNormalization()(head_model)\n",
    "    head_model = layers.Dropout(0.25)(head_model)\n",
    "    head_model = layers.Dense(512, activation='relu')(head_model)\n",
    "    head_model = layers.BatchNormalization()(head_model)\n",
    "    head_model = layers.Dropout(0.5)(head_model)\n",
    "    \n",
    "    head_model = layers.Dense(3, activation='softmax')(head_model)\n",
    "    \n",
    "    model = Model(inputs=base_model.input, outputs=head_model)\n",
    "    model.compile(optimizer='adam', loss='categorical_crossentropy', metrics=['acc'])\n",
    "    \n",
    "    return model"
   ]
  },
  {
   "cell_type": "code",
   "execution_count": 6,
   "metadata": {},
   "outputs": [],
   "source": [
    "def create_callbacks():\n",
    "    callback_1 = EarlyStopping(monitor='val_acc', patience=4)\n",
    "    callback_2 = ModelCheckpoint(\n",
    "        'Animals_ModelCheckpoints/model-{epoch:02d}-{val_acc:.2f}.hdf5',\n",
    "        save_best_only=True,\n",
    "        save_weights_only=True,\n",
    "        monitor='val_acc',\n",
    "        save_freq='epoch',\n",
    "        mode='auto',\n",
    "        verbose=1\n",
    "    )\n",
    "\n",
    "    return [callback_1, callback_2]"
   ]
  },
  {
   "cell_type": "code",
   "execution_count": 10,
   "metadata": {},
   "outputs": [],
   "source": [
    "def plot_graph(history):\n",
    "    acc = history.history['acc']\n",
    "    val_acc = history.history['val_acc']\n",
    "    loss = history.history['loss']\n",
    "    val_loss = history.history['val_loss']\n",
    "    \n",
    "    plt.figure(figsize=(10,6))\n",
    "    epoch = range(len(acc))\n",
    "    \n",
    "    plt.plot(epoch, acc, 'r', label='Training Accuracy')\n",
    "    plt.plot(epoch, val_acc, 'b', label='Validation Accuracy')\n",
    "    plt.plot(epoch, loss, 'g', label='Training Loss')\n",
    "    plt.plot(epoch, val_loss, 'y', label='Validation Loss')\n",
    "    \n",
    "    plt.title('Training & Validation, Accuracy & Loss')\n",
    "    plt.legend(loc=0)\n",
    "    plt.show()"
   ]
  },
  {
   "cell_type": "code",
   "execution_count": 8,
   "metadata": {},
   "outputs": [
    {
     "name": "stdout",
     "output_type": "stream",
     "text": [
      "Found 2400 images belonging to 3 classes.\n",
      "Found 600 images belonging to 3 classes.\n",
      "Epoch 1/30\n",
      " 2/75 [..............................] - ETA: 4s - loss: 1.8446 - acc: 0.3906WARNING:tensorflow:Callbacks method `on_train_batch_end` is slow compared to the batch time (batch time: 0.0442s vs `on_train_batch_end` time: 0.0907s). Check your callbacks.\n",
      "75/75 [==============================] - ETA: 0s - loss: 1.2381 - acc: 0.5292\n",
      "Epoch 00001: val_acc improved from -inf to 0.33333, saving model to Animals_ModelCheckpoints/model-01-0.33.hdf5\n",
      "75/75 [==============================] - 40s 533ms/step - loss: 1.2381 - acc: 0.5292 - val_loss: 4.0135 - val_acc: 0.3333\n",
      "Epoch 2/30\n",
      "75/75 [==============================] - ETA: 0s - loss: 0.8709 - acc: 0.6042\n",
      "Epoch 00002: val_acc did not improve from 0.33333\n",
      "75/75 [==============================] - 40s 533ms/step - loss: 0.8709 - acc: 0.6042 - val_loss: 3.9076 - val_acc: 0.3333\n",
      "Epoch 3/30\n",
      "75/75 [==============================] - ETA: 0s - loss: 0.8323 - acc: 0.6008\n",
      "Epoch 00003: val_acc improved from 0.33333 to 0.35000, saving model to Animals_ModelCheckpoints/model-03-0.35.hdf5\n",
      "75/75 [==============================] - 40s 535ms/step - loss: 0.8323 - acc: 0.6008 - val_loss: 3.0383 - val_acc: 0.3500\n",
      "Epoch 4/30\n",
      "75/75 [==============================] - ETA: 0s - loss: 0.7598 - acc: 0.6433\n",
      "Epoch 00004: val_acc did not improve from 0.35000\n",
      "75/75 [==============================] - 40s 535ms/step - loss: 0.7598 - acc: 0.6433 - val_loss: 3.1961 - val_acc: 0.3333\n",
      "Epoch 5/30\n",
      "75/75 [==============================] - ETA: 0s - loss: 0.7200 - acc: 0.6596\n",
      "Epoch 00005: val_acc improved from 0.35000 to 0.50667, saving model to Animals_ModelCheckpoints/model-05-0.51.hdf5\n",
      "75/75 [==============================] - 41s 544ms/step - loss: 0.7200 - acc: 0.6596 - val_loss: 1.0324 - val_acc: 0.5067\n",
      "Epoch 6/30\n",
      "75/75 [==============================] - ETA: 0s - loss: 0.6863 - acc: 0.6575\n",
      "Epoch 00006: val_acc improved from 0.50667 to 0.62333, saving model to Animals_ModelCheckpoints/model-06-0.62.hdf5\n",
      "75/75 [==============================] - 41s 550ms/step - loss: 0.6863 - acc: 0.6575 - val_loss: 0.7605 - val_acc: 0.6233\n",
      "Epoch 7/30\n",
      "75/75 [==============================] - ETA: 0s - loss: 0.6477 - acc: 0.6687\n",
      "Epoch 00007: val_acc improved from 0.62333 to 0.67500, saving model to Animals_ModelCheckpoints/model-07-0.68.hdf5\n",
      "75/75 [==============================] - 41s 553ms/step - loss: 0.6477 - acc: 0.6687 - val_loss: 0.6508 - val_acc: 0.6750\n",
      "Epoch 8/30\n",
      "75/75 [==============================] - ETA: 0s - loss: 0.6278 - acc: 0.6837\n",
      "Epoch 00008: val_acc improved from 0.67500 to 0.71167, saving model to Animals_ModelCheckpoints/model-08-0.71.hdf5\n",
      "75/75 [==============================] - 41s 550ms/step - loss: 0.6278 - acc: 0.6837 - val_loss: 0.6016 - val_acc: 0.7117\n",
      "Epoch 9/30\n",
      "75/75 [==============================] - ETA: 0s - loss: 0.6132 - acc: 0.6921\n",
      "Epoch 00009: val_acc improved from 0.71167 to 0.72667, saving model to Animals_ModelCheckpoints/model-09-0.73.hdf5\n",
      "75/75 [==============================] - 40s 538ms/step - loss: 0.6132 - acc: 0.6921 - val_loss: 0.5396 - val_acc: 0.7267\n",
      "Epoch 10/30\n",
      "75/75 [==============================] - ETA: 0s - loss: 0.6431 - acc: 0.6817\n",
      "Epoch 00010: val_acc did not improve from 0.72667\n",
      "75/75 [==============================] - 40s 538ms/step - loss: 0.6431 - acc: 0.6817 - val_loss: 1.4254 - val_acc: 0.5050\n",
      "Epoch 11/30\n",
      "75/75 [==============================] - ETA: 0s - loss: 0.6230 - acc: 0.6958\n",
      "Epoch 00011: val_acc did not improve from 0.72667\n",
      "75/75 [==============================] - 40s 536ms/step - loss: 0.6230 - acc: 0.6958 - val_loss: 0.9326 - val_acc: 0.5933\n",
      "Epoch 12/30\n",
      "75/75 [==============================] - ETA: 0s - loss: 0.5867 - acc: 0.7133\n",
      "Epoch 00012: val_acc did not improve from 0.72667\n",
      "75/75 [==============================] - 40s 539ms/step - loss: 0.5867 - acc: 0.7133 - val_loss: 0.6075 - val_acc: 0.7067\n",
      "Epoch 13/30\n",
      "75/75 [==============================] - ETA: 0s - loss: 0.5752 - acc: 0.7262\n",
      "Epoch 00013: val_acc did not improve from 0.72667\n",
      "75/75 [==============================] - 41s 540ms/step - loss: 0.5752 - acc: 0.7262 - val_loss: 0.5461 - val_acc: 0.7250\n"
     ]
    }
   ],
   "source": [
    "model = create_own_model()\n",
    "training_datagen, validation_datagen = data_gen()\n",
    "history = model.fit(\n",
    "    training_datagen,\n",
    "    epochs=30,\n",
    "    validation_data=validation_datagen,\n",
    "    callbacks=create_callbacks(),\n",
    "    verbose=1\n",
    ")"
   ]
  },
  {
   "cell_type": "code",
   "execution_count": 11,
   "metadata": {},
   "outputs": [
    {
     "data": {
      "image/png": "[encoded data removed]",
      "text/plain": [
       "<Figure size 720x432 with 1 Axes>"
      ]
     },
     "metadata": {
      "needs_background": "light"
     },
     "output_type": "display_data"
    }
   ],
   "source": [
    "plot_graph(history)"
   ]
  },
  {
   "cell_type": "code",
   "execution_count": 12,
   "metadata": {},
   "outputs": [
    {
     "name": "stdout",
     "output_type": "stream",
     "text": [
      "Found 2400 images belonging to 3 classes.\n",
      "Found 600 images belonging to 3 classes.\n",
      "Epoch 1/30\n",
      "75/75 [==============================] - ETA: 0s - loss: 0.1724 - acc: 0.9525\n",
      "Epoch 00001: val_acc improved from -inf to 0.95667, saving model to Animals_ModelCheckpoints/model-01-0.96.hdf5\n",
      "75/75 [==============================] - 41s 548ms/step - loss: 0.1724 - acc: 0.9525 - val_loss: 0.2077 - val_acc: 0.9567\n",
      "Epoch 2/30\n",
      "75/75 [==============================] - ETA: 0s - loss: 0.1153 - acc: 0.9679\n",
      "Epoch 00002: val_acc improved from 0.95667 to 0.99167, saving model to Animals_ModelCheckpoints/model-02-0.99.hdf5\n",
      "75/75 [==============================] - 42s 559ms/step - loss: 0.1153 - acc: 0.9679 - val_loss: 0.0331 - val_acc: 0.9917\n",
      "Epoch 3/30\n",
      "75/75 [==============================] - ETA: 0s - loss: 0.0719 - acc: 0.9771\n",
      "Epoch 00003: val_acc improved from 0.99167 to 0.99333, saving model to Animals_ModelCheckpoints/model-03-0.99.hdf5\n",
      "75/75 [==============================] - 42s 557ms/step - loss: 0.0719 - acc: 0.9771 - val_loss: 0.0082 - val_acc: 0.9933\n",
      "Epoch 4/30\n",
      "75/75 [==============================] - ETA: 0s - loss: 0.0676 - acc: 0.9775\n",
      "Epoch 00004: val_acc did not improve from 0.99333\n",
      "75/75 [==============================] - 41s 553ms/step - loss: 0.0676 - acc: 0.9775 - val_loss: 0.0180 - val_acc: 0.9917\n",
      "Epoch 5/30\n",
      "75/75 [==============================] - ETA: 0s - loss: 0.0900 - acc: 0.9746\n",
      "Epoch 00005: val_acc did not improve from 0.99333\n",
      "75/75 [==============================] - 42s 556ms/step - loss: 0.0900 - acc: 0.9746 - val_loss: 0.0261 - val_acc: 0.9900\n",
      "Epoch 6/30\n",
      "75/75 [==============================] - ETA: 0s - loss: 0.0611 - acc: 0.9796\n",
      "Epoch 00006: val_acc improved from 0.99333 to 0.99500, saving model to Animals_ModelCheckpoints/model-06-1.00.hdf5\n",
      "75/75 [==============================] - 42s 562ms/step - loss: 0.0611 - acc: 0.9796 - val_loss: 0.0150 - val_acc: 0.9950\n",
      "Epoch 7/30\n",
      "75/75 [==============================] - ETA: 0s - loss: 0.0453 - acc: 0.9842\n",
      "Epoch 00007: val_acc did not improve from 0.99500\n",
      "75/75 [==============================] - 42s 564ms/step - loss: 0.0453 - acc: 0.9842 - val_loss: 0.0178 - val_acc: 0.9933\n",
      "Epoch 8/30\n",
      "75/75 [==============================] - ETA: 0s - loss: 0.0410 - acc: 0.9833\n",
      "Epoch 00008: val_acc did not improve from 0.99500\n",
      "75/75 [==============================] - 43s 569ms/step - loss: 0.0410 - acc: 0.9833 - val_loss: 0.0288 - val_acc: 0.9933\n",
      "Epoch 9/30\n",
      "75/75 [==============================] - ETA: 0s - loss: 0.0554 - acc: 0.9842\n",
      "Epoch 00009: val_acc did not improve from 0.99500\n",
      "75/75 [==============================] - 44s 588ms/step - loss: 0.0554 - acc: 0.9842 - val_loss: 0.0140 - val_acc: 0.9917\n",
      "Epoch 10/30\n",
      "75/75 [==============================] - ETA: 0s - loss: 0.0632 - acc: 0.9804\n",
      "Epoch 00010: val_acc did not improve from 0.99500\n",
      "75/75 [==============================] - 43s 572ms/step - loss: 0.0632 - acc: 0.9804 - val_loss: 0.0219 - val_acc: 0.9933\n"
     ]
    }
   ],
   "source": [
    "model = create_transfer_learning_model()\n",
    "training_datagen, validation_datagen = data_gen()\n",
    "\n",
    "history = model.fit(\n",
    "    training_datagen,\n",
    "    validation_data=validation_datagen,\n",
    "    epochs=30,\n",
    "    callbacks=create_callbacks(),\n",
    "    verbose=1\n",
    ")"
   ]
  },
  {
   "cell_type": "code",
   "execution_count": 13,
   "metadata": {},
   "outputs": [
    {
     "data": {
      "image/png": "[encoded data removed]",
      "text/plain": [
       "<Figure size 720x432 with 1 Axes>"
      ]
     },
     "metadata": {
      "needs_background": "light"
     },
     "output_type": "display_data"
    }
   ],
   "source": [
    "plot_graph(history)"
   ]
  },
  {
   "cell_type": "code",
   "execution_count": null,
   "metadata": {},
   "outputs": [],
   "source": []
  }
 ],
 "metadata": {
  "kernelspec": {
   "display_name": "Python 3",
   "language": "python",
   "name": "python3"
  },
  "language_info": {
   "codemirror_mode": {
    "name": "ipython",
    "version": 3
   },
   "file_extension": ".py",
   "mimetype": "text/x-python",
   "name": "python",
   "nbconvert_exporter": "python",
   "pygments_lexer": "ipython3",
   "version": "3.8.5"
  }
 },
 "nbformat": 4,
 "nbformat_minor": 4
}

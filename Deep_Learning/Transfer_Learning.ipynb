{
 "cells": [
  {
   "cell_type": "code",
   "execution_count": 15,
   "metadata": {},
   "outputs": [],
   "source": [
    "import os\n",
    "import tensorflow as tf\n",
    "import matplotlib.pyplot as plt\n",
    "from tensorflow.keras import layers\n",
    "from tensorflow.keras import Model\n",
    "from tensorflow.keras.optimizers import RMSprop\n",
    "from tensorflow.keras.callbacks import ModelCheckpoint, EarlyStopping\n",
    "from tensorflow.keras.preprocessing.image import ImageDataGenerator\n",
    "from tensorflow.keras.applications.vgg16 import VGG16"
   ]
  },
  {
   "cell_type": "code",
   "execution_count": 16,
   "metadata": {},
   "outputs": [
    {
     "name": "stderr",
     "output_type": "stream",
     "text": [
      "/home/sunt/anaconda3/envs/tf2/lib/python3.8/site-packages/tensorflow/python/client/session.py:1751: UserWarning: An interactive session is already active. This can cause out-of-memory errors in some cases. You must explicitly call `InteractiveSession.close()` to release resources held by the other session(s).\n",
      "  warnings.warn('An interactive session is already active. This can '\n"
     ]
    }
   ],
   "source": [
    "config = tf.compat.v1.ConfigProto()\n",
    "config.gpu_options.allow_growth = True\n",
    "session = tf.compat.v1.InteractiveSession(config=config)"
   ]
  },
  {
   "cell_type": "code",
   "execution_count": 24,
   "metadata": {},
   "outputs": [],
   "source": [
    "def create_model():\n",
    "    base_model = VGG16(\n",
    "        input_shape=(300,300,3),\n",
    "        include_top=False,\n",
    "        weights='imagenet'\n",
    "    )\n",
    "    \n",
    "    for layer in base_model.layers:\n",
    "        layer.trainable = False\n",
    "        \n",
    "    head_model = base_model.output\n",
    "    head_model = layers.Flatten()(head_model)\n",
    "    head_model = layers.Dense(1024, activation='relu')(head_model)\n",
    "    head_model = layers.Dropout(0.2)(head_model)\n",
    "    head_model = layers.Dense(1, activation='sigmoid')(head_model)\n",
    "\n",
    "    model = Model(inputs=base_model.input, outputs=head_model)\n",
    "    model.compile(optimizer=RMSprop(lr=0.001), loss='binary_crossentropy', metrics=['acc'])\n",
    "    \n",
    "    return model"
   ]
  },
  {
   "cell_type": "code",
   "execution_count": 25,
   "metadata": {},
   "outputs": [],
   "source": [
    "def data_gen():\n",
    "    training_datagen = ImageDataGenerator(\n",
    "        rescale=1/255,\n",
    "        rotation_range=40,\n",
    "        width_shift_range=0.2,\n",
    "        height_shift_range=0.2,\n",
    "        shear_range=0.2,\n",
    "        horizontal_flip=True,\n",
    "        fill_mode='nearest'\n",
    "    )\n",
    "    validation_datagen = ImageDataGenerator(\n",
    "        rescale=1/255,\n",
    "        rotation_range=40,\n",
    "        width_shift_range=0.2,\n",
    "        height_shift_range=0.2,\n",
    "        shear_range=0.2,\n",
    "        horizontal_flip=True,\n",
    "        fill_mode='nearest'\n",
    "    )\n",
    "    \n",
    "    training_generator = training_datagen.flow_from_directory(\n",
    "        'horse-and-humand/train',\n",
    "        target_size=(300,300),\n",
    "        batch_size=32,\n",
    "        class_mode='binary'\n",
    "    )\n",
    "    \n",
    "    validation_generator = validation_datagen.flow_from_directory(\n",
    "        'horse-and-humand/validation',\n",
    "        target_size=(300,300),\n",
    "        batch_size=32,\n",
    "        class_mode='binary'\n",
    "    )\n",
    "    \n",
    "    return training_generator, validation_generator"
   ]
  },
  {
   "cell_type": "code",
   "execution_count": 26,
   "metadata": {},
   "outputs": [],
   "source": [
    "callback_1 = ModelCheckpoint(\n",
    "    'horse-humand_model_checkpoint/weights-improvement-{epoch:02d}-{val_acc:.2f}.hdf5',\n",
    "    monitor='val_acc',\n",
    "    save_best_only=True,\n",
    "    save_weights_only=True,\n",
    "    save_freq='epoch',\n",
    "    mode='auto',\n",
    "    verbose=1\n",
    ")\n",
    "\n",
    "callback_2 = EarlyStopping(monitor='val_loss', patience=5)"
   ]
  },
  {
   "cell_type": "code",
   "execution_count": 18,
   "metadata": {},
   "outputs": [
    {
     "name": "stdout",
     "output_type": "stream",
     "text": [
      "Downloading data from https://storage.googleapis.com/tensorflow/keras-applications/vgg16/vgg16_weights_tf_dim_ordering_tf_kernels_notop.h5\n",
      "58892288/58889256 [==============================] - 8s 0us/step\n",
      "Found 1027 images belonging to 2 classes.\n",
      "Found 256 images belonging to 2 classes.\n"
     ]
    }
   ],
   "source": [
    "model = create_model()\n",
    "training_generator, validation_generator = data_gen()"
   ]
  },
  {
   "cell_type": "code",
   "execution_count": 27,
   "metadata": {},
   "outputs": [
    {
     "name": "stdout",
     "output_type": "stream",
     "text": [
      "Epoch 1/30\n",
      "65/65 [==============================] - ETA: 0s - loss: 0.1342 - acc: 0.9786\n",
      "Epoch 00001: val_acc improved from -inf to 0.91797, saving model to horse-humand_model_checkpoint/weights-improvement-01-0.92.hdf5\n",
      "65/65 [==============================] - 12s 180ms/step - loss: 0.1342 - acc: 0.9786 - val_loss: 0.4456 - val_acc: 0.9180\n",
      "Epoch 2/30\n",
      "65/65 [==============================] - ETA: 0s - loss: 0.0992 - acc: 0.9708\n",
      "Epoch 00002: val_acc did not improve from 0.91797\n",
      "65/65 [==============================] - 12s 189ms/step - loss: 0.0992 - acc: 0.9708 - val_loss: 0.9824 - val_acc: 0.8594\n",
      "Epoch 3/30\n",
      "65/65 [==============================] - ETA: 0s - loss: 0.0501 - acc: 0.9903\n",
      "Epoch 00003: val_acc improved from 0.91797 to 0.95312, saving model to horse-humand_model_checkpoint/weights-improvement-03-0.95.hdf5\n",
      "65/65 [==============================] - 13s 194ms/step - loss: 0.0501 - acc: 0.9903 - val_loss: 0.1794 - val_acc: 0.9531\n",
      "Epoch 4/30\n",
      "65/65 [==============================] - ETA: 0s - loss: 0.0603 - acc: 0.9844\n",
      "Epoch 00004: val_acc did not improve from 0.95312\n",
      "65/65 [==============================] - 13s 197ms/step - loss: 0.0603 - acc: 0.9844 - val_loss: 0.5397 - val_acc: 0.9180\n",
      "Epoch 5/30\n",
      "65/65 [==============================] - ETA: 0s - loss: 0.1046 - acc: 0.9786\n",
      "Epoch 00005: val_acc improved from 0.95312 to 0.99219, saving model to horse-humand_model_checkpoint/weights-improvement-05-0.99.hdf5\n",
      "65/65 [==============================] - 13s 199ms/step - loss: 0.1046 - acc: 0.9786 - val_loss: 0.0336 - val_acc: 0.9922\n",
      "Epoch 6/30\n",
      "65/65 [==============================] - ETA: 0s - loss: 0.1674 - acc: 0.9727\n",
      "Epoch 00006: val_acc did not improve from 0.99219\n",
      "65/65 [==============================] - 13s 203ms/step - loss: 0.1674 - acc: 0.9727 - val_loss: 3.1462 - val_acc: 0.6992\n",
      "Epoch 7/30\n",
      "65/65 [==============================] - ETA: 0s - loss: 0.0429 - acc: 0.9864\n",
      "Epoch 00007: val_acc did not improve from 0.99219\n",
      "65/65 [==============================] - 13s 206ms/step - loss: 0.0429 - acc: 0.9864 - val_loss: 3.9611 - val_acc: 0.6875\n",
      "Epoch 8/30\n",
      "65/65 [==============================] - ETA: 0s - loss: 0.1031 - acc: 0.9834\n",
      "Epoch 00008: val_acc did not improve from 0.99219\n",
      "65/65 [==============================] - 13s 201ms/step - loss: 0.1031 - acc: 0.9834 - val_loss: 0.5211 - val_acc: 0.9219\n",
      "Epoch 9/30\n",
      "65/65 [==============================] - ETA: 0s - loss: 0.0893 - acc: 0.9786\n",
      "Epoch 00009: val_acc did not improve from 0.99219\n",
      "65/65 [==============================] - 13s 203ms/step - loss: 0.0893 - acc: 0.9786 - val_loss: 0.5921 - val_acc: 0.9180\n",
      "Epoch 10/30\n",
      "65/65 [==============================] - ETA: 0s - loss: 0.1015 - acc: 0.9815\n",
      "Epoch 00010: val_acc did not improve from 0.99219\n",
      "65/65 [==============================] - 13s 204ms/step - loss: 0.1015 - acc: 0.9815 - val_loss: 0.4264 - val_acc: 0.9453\n"
     ]
    }
   ],
   "source": [
    "history = model.fit(\n",
    "    training_generator,\n",
    "    epochs=30,\n",
    "    callbacks=[callback_1, callback_2],\n",
    "    validation_data=validation_generator,\n",
    "    verbose=1\n",
    ")"
   ]
  },
  {
   "cell_type": "code",
   "execution_count": 11,
   "metadata": {},
   "outputs": [],
   "source": [
    "model.save('horse-humand-mode.h5')"
   ]
  },
  {
   "cell_type": "code",
   "execution_count": 28,
   "metadata": {},
   "outputs": [],
   "source": [
    "def plot_chart(history):\n",
    "    acc = history.history['acc']\n",
    "    val_acc = history.history['val_acc']\n",
    "    loss = history.history['loss']\n",
    "    val_loss = history.history['val_loss']\n",
    "\n",
    "    epochs = range(len(acc))\n",
    "    plt.figure(figsize=(10, 6))\n",
    "\n",
    "    plt.plot(epochs, acc, 'r', label='Training Accuracy')\n",
    "    plt.plot(epochs, val_acc, 'b', label='Validation Accuracy')\n",
    "    plt.plot(epochs, loss, 'g', label='Training Loss')\n",
    "    plt.plot(epochs, val_loss, 'y', label='Validation Loss')\n",
    "\n",
    "    plt.title('Traing and Validation, Accuracy and Loss')\n",
    "    plt.legend(loc=0)\n",
    "    plt.show()"
   ]
  },
  {
   "cell_type": "code",
   "execution_count": 29,
   "metadata": {},
   "outputs": [
    {
     "data": {
      "image/png": "[encoded data removed]",
      "text/plain": [
       "<Figure size 720x432 with 1 Axes>"
      ]
     },
     "metadata": {
      "needs_background": "light"
     },
     "output_type": "display_data"
    }
   ],
   "source": [
    "plot_chart(history)"
   ]
  },
  {
   "cell_type": "code",
   "execution_count": null,
   "metadata": {},
   "outputs": [],
   "source": []
  }
 ],
 "metadata": {
  "kernelspec": {
   "display_name": "Python 3",
   "language": "python",
   "name": "python3"
  },
  "language_info": {
   "codemirror_mode": {
    "name": "ipython",
    "version": 3
   },
   "file_extension": ".py",
   "mimetype": "text/x-python",
   "name": "python",
   "nbconvert_exporter": "python",
   "pygments_lexer": "ipython3",
   "version": "3.8.5"
  }
 },
 "nbformat": 4,
 "nbformat_minor": 4
}
